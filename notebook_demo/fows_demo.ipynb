{
  "cells": [
    {
      "cell_type": "code",
      "execution_count": null,
      "metadata": {
        "id": "9lUgF8n9heLa"
      },
      "outputs": [],
      "source": [
        "# test preprocessing\n",
        "# 1. show video\n",
        "# 2. frames and faces extraction from video\n",
        "# 3. separate occ and no_occ frames\n",
        "# 4. show occ and no_occ examples\n",
        "# ----------------------------------------------- #\n",
        "\n",
        "# clone repo from github\n",
        "\n"
      ]
    },
    {
      "cell_type": "code",
      "execution_count": null,
      "metadata": {
        "colab": {
          "base_uri": "https://localhost:8080/"
        },
        "id": "-oUBevvFTEyq",
        "outputId": "d041ac8c-2586-408f-cc2f-38a5896b4c84"
      },
      "outputs": [
        {
          "name": "stdout",
          "output_type": "stream",
          "text": [
            "Mounted at /content/drive\n"
          ]
        }
      ],
      "source": [
        "# from google.colab import drive\n",
        "# drive.mount('/content/drive')"
      ]
    },
    {
      "cell_type": "code",
      "execution_count": null,
      "metadata": {},
      "outputs": [],
      "source": [
        "import torch\n",
        "import torch.nn as nn\n",
        "import torch.nn.functional as F\n",
        "import torch.optim as optim\n",
        "import torchvision.transforms as transforms\n",
        "import torchvision.models as models\n",
        "from torch.utils.data import DataLoader\n",
        "import os\n",
        "import timm # for using the XceptionNet model (pretrained) # pip install timm\n",
        "import yaml\n",
        "import glob\n",
        "import matplotlib.pyplot as plt\n",
        "from scipy.special import expit\n",
        "import glob\n",
        "\n",
        "from notebook_demo.demo_utils import *\n",
        "from preprocessing.fows.frame_and_faces_extraction import *"
      ]
    },
    {
      "cell_type": "code",
      "execution_count": null,
      "metadata": {
        "id": "5QHws-jOquaL"
      },
      "outputs": [],
      "source": [
        "# add .. to syspath to access the rest of the repo\n",
        "import sys\n",
        "sys.path.append('..')"
      ]
    },
    {
      "cell_type": "code",
      "execution_count": null,
      "metadata": {},
      "outputs": [],
      "source": [
        "%ls"
      ]
    },
    {
      "cell_type": "code",
      "execution_count": null,
      "metadata": {},
      "outputs": [],
      "source": [
        "\n",
        "#@title Real and Fake videos pre-processing\n",
        "\n",
        "# all user faces and preprocessing will be saved inside the demo folder\n",
        "# just to show how the code works\n",
        "\n",
        "# -------------------------------------------------------------- #\n",
        "\n",
        "print(\"\\nREAL_VIDEOS\")\n",
        "# NOTE: update path to demo video and user_faces\n",
        "# check also other paths to files in the demo\n",
        "real_vid = './demo_videos/real/'\n",
        "real_faces = './user_faces/real/'\n",
        "if not os.path.exists(real_faces):\n",
        "  print(\"path doesn't exists\")\n",
        "  create_subfolders_demo(real_faces)\n",
        "else:\n",
        "  print(\"subfolders already exist\")\n",
        "  extract_subfolders(real_faces)\n",
        "\n",
        "# breakpoint()\n",
        "\n",
        "extract_faces_from_videos(extract_files(real_vid), extract_subfolders(real_faces))\n",
        "print(\"\\nsanity check: \")\n",
        "# add sanity check to see if the number of frames extracted from the original videos is correct (390 frames)\n",
        "for sub in extract_subfolders(real_faces):\n",
        "    print(\"sub:\", sub)\n",
        "    print(len(extract_files(sub)))\n",
        "    if len(extract_files(sub)) != 390: # check if all frames extracte from the video\n",
        "        print(\"ERROR: number of frames extracted from the facedancer videos is not correct\")\n",
        "    else:\n",
        "        print(\"number of frames extracted from the facedancer videos is correct\")\n",
        "\n",
        "\n",
        "# -------------------------------------------------------------- #\n",
        "\n",
        "\n"
      ]
    },
    {
      "cell_type": "code",
      "execution_count": null,
      "metadata": {},
      "outputs": [],
      "source": [
        "# Organize Occ and No-Occ faces\n",
        "dataset_path = '/content/drive/MyDrive/Colab Notebooks/FOWS_demo/user_faces/' #'user_faces/'\n",
        "preprocessed_path = '/content/drive/MyDrive/Colab Notebooks/FOWS_demo/preprocessed_faces/' #'preprocessed_faces/'\n",
        "organize_frames(dataset_path, preprocessed_path)\n",
        "check_num_frames(preprocessed_path)"
      ]
    },
    {
      "cell_type": "code",
      "execution_count": 6,
      "metadata": {
        "colab": {
          "base_uri": "https://localhost:8080/"
        },
        "id": "yzLqNfegzx8p",
        "outputId": "eeba42a5-283b-495c-9aa6-ce95db4cc2d0"
      },
      "outputs": [
        {
          "name": "stdout",
          "output_type": "stream",
          "text": [
            "xception_thesis_occ_FT\n"
          ]
        }
      ],
      "source": [
        "#@title Select the model:\n",
        "baseline_model = 'xception' #@param [\"mnetv2\", \"effnetb4\", \"xception\"]\n",
        "trn_strategy = 'FT' #@param [\"FT\", \"TL\"]\n",
        "dataset = 'thesis' #@param [\"thesis\", \"gotcha\"]\n",
        "frames_type = 'occ' #@param [\"occ\", \"no_occ\"]\n",
        "dataset = dataset + '_' + frames_type\n",
        "\n",
        "model_str = f'{baseline_model}_{dataset}_{trn_strategy}'\n",
        "\n",
        "print(model_str)"
      ]
    },
    {
      "cell_type": "code",
      "execution_count": null,
      "metadata": {},
      "outputs": [],
      "source": [
        "# load the model \n",
        "device = torch.device(\"cuda:0\" if torch.cuda.is_available() else \"cpu\")\n",
        "model, _ = load_model_from_path(baseline_model, trn_strategy, dataset, '../model_weights/')\n",
        "model.to(device)\n",
        "print(\"model loaded!\")"
      ]
    },
    {
      "cell_type": "code",
      "execution_count": 7,
      "metadata": {},
      "outputs": [],
      "source": [
        "# model = mobilenet_v2(pretrained=True)\n",
        "model = models.mobilenet_v2(weights = 'MobileNet_V2_Weights.IMAGENET1K_V2')\n",
        "\n",
        "# Replace the classifier layer\n",
        "model.classifier[1] = nn.Linear(model.last_channel, 1) # only 1 output -> prob of real of swap face"
      ]
    },
    {
      "cell_type": "code",
      "execution_count": null,
      "metadata": {},
      "outputs": [
        {
          "data": {
            "text/plain": [
              "<All keys matched successfully>"
            ]
          },
          "execution_count": 8,
          "metadata": {},
          "output_type": "execute_result"
        }
      ],
      "source": [
        "# pretrained_model_path = '/media/data/model_exp_results/face_occ_net/results_FT/MobileNetV2_thesis_occ_FT/training/MobileNetV2_FT_2024-10-17-15-33-53/best_checkpoint.pth'  #args.save_model_path                 \n",
        "# best_ckpt = torch.load(pretrained_model_path, map_location = \"cpu\")\n",
        "# model.load_state_dict(best_ckpt['model'])"
      ]
    },
    {
      "cell_type": "code",
      "execution_count": null,
      "metadata": {},
      "outputs": [],
      "source": [
        "# device = torch.device(\"cuda:0\" if torch.cuda.is_available() else \"cpu\")\n",
        "# model.to(device)\n",
        "# model.eval()"
      ]
    },
    {
      "cell_type": "code",
      "execution_count": null,
      "metadata": {
        "colab": {
          "base_uri": "https://localhost:8080/",
          "height": 36
        },
        "id": "sM-rbhN3QHu8",
        "outputId": "adc2af57-0f09-40a3-e46d-801c8fa7c030"
      },
      "outputs": [
        {
          "data": {
            "application/vnd.google.colaboratory.intrinsic+json": {
              "type": "string"
            },
            "text/plain": [
              "'fows_occ'"
            ]
          },
          "execution_count": 9,
          "metadata": {},
          "output_type": "execute_result"
        }
      ],
      "source": [
        "dataset"
      ]
    },
    {
      "cell_type": "code",
      "execution_count": null,
      "metadata": {
        "id": "btkvnsGTbYyb"
      },
      "outputs": [],
      "source": [
        "# Define the paths to the preprocessed real and fake faces\n",
        "real_faces_dir = f'/content/drive/MyDrive/Colab Notebooks/FOWS_demo/preprocessed_faces/{vid}/real/{frames_type}/'\n",
        "fake_faces_dir = f'/content/drive/MyDrive/Colab Notebooks/FOWS_demo/preprocessed_faces/{vid}/fake/{frames_type}/'\n",
        "\n",
        "# real_faces_dir_no_occ = f'/content/drive/MyDrive/Colab Notebooks/FOWS_demo/preprocessed_faces/real/{dataset}/no_occ/'\n",
        "# fake_faces_dir_no_occ = f'/content/drive/MyDrive/Colab Notebooks/FOWS_demo/preprocessed_faces/fake/{dataset}/no_occ/'"
      ]
    },
    {
      "cell_type": "code",
      "execution_count": null,
      "metadata": {
        "colab": {
          "base_uri": "https://localhost:8080/",
          "height": 36
        },
        "id": "f7Upbn9lw3-0",
        "outputId": "a038eb8a-8fe2-47d2-f578-4e58ac57a3c4"
      },
      "outputs": [
        {
          "data": {
            "application/vnd.google.colaboratory.intrinsic+json": {
              "type": "string"
            },
            "text/plain": [
              "'/content/drive/MyDrive/Colab Notebooks/FOWS_demo/preprocessed_faces/hand_occlusion/fake/occ/'"
            ]
          },
          "execution_count": 20,
          "metadata": {},
          "output_type": "execute_result"
        }
      ],
      "source": [
        "fake_faces_dir"
      ]
    },
    {
      "cell_type": "code",
      "execution_count": null,
      "metadata": {
        "colab": {
          "base_uri": "https://localhost:8080/"
        },
        "id": "qo58XsJBxSqX",
        "outputId": "48c0b833-c7a3-4df7-f87e-d41ac84d5420"
      },
      "outputs": [
        {
          "name": "stdout",
          "output_type": "stream",
          "text": [
            "/content/drive/MyDrive/Colab Notebooks/FOWS_demo/preprocessed_faces/hand_occlusion/real/occ/frame200.jpg\n"
          ]
        }
      ],
      "source": [
        "import glob\n",
        "\n",
        "print(glob.glob(real_faces_dir+'/*')[0])"
      ]
    },
    {
      "cell_type": "code",
      "execution_count": null,
      "metadata": {},
      "outputs": [],
      "source": [
        "# import os\n",
        "# import sys\n",
        "# import argparse\n",
        "# import torch\n",
        "# import torch.nn as nn\n",
        "# import torch.nn.functional as F\n",
        "# # import torch.models as models\n",
        "# from torchvision import models\n",
        "# import timm  # for xception model\n",
        "# # from torchvision import models\n",
        "\n",
        "# # from utils.focalLoss import FocalLoss\n",
        "# # from utils.customDataset import FaceImagesDataset\n",
        "# # from utils.logger import create_logger\n",
        "# # from utils.train_val_test import *\n",
        "# # from utils.get_pretrained_model import get_pretrained_path\n",
        "\n",
        "# def vm_get_model_pat(model_weights_path, model_str):\n",
        "#     # model_weights_path = '/media/data/model_exp_results/face_occ_net/results_FT/' # '/TL/'\n",
        "#     # model_str = 'mnetv2_gotcha_no_occ_FT'\n",
        "#     # MnetV2_gotcha_no_occ_FT\n",
        "\n",
        "#     model_path = ''\n",
        "#     for root, dirs, files in os.walk(model_weights_path):\n",
        "#         if model_str.lower() in root.lower(): #print(\"found: \", root)\n",
        "#         # else: print(root)\n",
        "#             for file in files:\n",
        "#                 if file.endswith('.pth'): # and model_str in file:\n",
        "#                     print(os.path.join(root, file))\n",
        "#                     model_path = os.path.join(root, file)\n",
        "\n",
        "#     return model_path\n",
        "# # ------------------------------------------------------------------------------------------- #\n",
        "# def load_model_from_path(model_name, trn_strategy, dataset, model_weights_path, device):\n",
        "#     # if model_name == 'mnetv2':\n",
        "#     pretrained_model_path = ''\n",
        "#     model_str = model_name + '_' + dataset + '_' + trn_strategy\n",
        "#     # if 'mnetv2' in model_name.lower():\n",
        "#     if model_name == 'mnetv2':\n",
        "#         print(\"Loading MobileNetV2 model\")\n",
        "#         # model = mobilenet_v2(pretrained=True)\n",
        "#         model = models.mobilenet_v2(weights = 'MobileNet_V2_Weights.IMAGENET1K_V2')\n",
        "#         model_name = 'MobileNetV2' # add the model name to the model object\n",
        "\n",
        "#         if trn_strategy == 'tl':\n",
        "#             # ---------------------------- #\n",
        "#             # --- TRANSFER LEARNING!!! --- #\n",
        "#             # ---------------------------- #\n",
        "#             print(\"loading pretrained TL model\")\n",
        "#             # # Freeze all layers\n",
        "#             for param in model.parameters():\n",
        "#                 param.requires_grad = False\n",
        "#             # Replace the classifier layer\n",
        "#             model.classifier[1] = nn.Linear(model.last_channel, 1) # only 1 output -> prob of real of swap face\n",
        "\n",
        "#             if dataset == 'gotcha_no_occ':\n",
        "#                 # pretrained_model_path = get_pretrained_path(model_name, trn_strategy, dataset, model_weights_path)\n",
        "#                 pretrained_model_path = vm_get_model_pat(model_weights_path, model_str)\n",
        "#                 print(\"model saved in:\", pretrained_model_path)\n",
        "#                 # with torch.serialization.safe_globals([FocalLoss]): # Use context manager\n",
        "#                 best_ckpt = torch.load(pretrained_model_path, map_location = \"cpu\") #, weights_only=False)\n",
        "#                 model.load_state_dict(best_ckpt['model'])\n",
        "\n",
        "#             elif dataset in ['thesis_occ', 'thesis_no_occ', 'gotcha_occ']:\n",
        "#                 # pretrained_model_path = get_pretrained_path(model_name, trn_strategy, dataset, model_weights_path)\n",
        "#                 # pretrained_model_path = get_model_path(model_weights_path)\n",
        "#                 pretrained_model_path = vm_get_model_pat(model_weights_path, model_str)\n",
        "#                 #get_pretrained_path(model_name, dataset, tl, ft)\n",
        "#                 print(\"model saved in:\", pretrained_model_path)\n",
        "#                 # with torch.serialization.safe_globals([FocalLoss]): # Use context manager\n",
        "#                 model.load_state_dict(torch.load(pretrained_model_path))\n",
        "#             else:\n",
        "#                 print(\"no pretrained model found\")\n",
        "#                 exit()\n",
        "#             # print(\"model saved in:\", pretrained_model_path)\n",
        "#             print(f\"TL {model_name} model loaded!\")\n",
        "\n",
        "#         elif trn_strategy == 'ft':\n",
        "#         # else:\n",
        "#             # ---------------------- #\n",
        "#             # --- FINE TUNING!!! --- #\n",
        "#             # ---------------------- #\n",
        "#             print(\"loading pretrained FT model\")\n",
        "#             # Replace the classifier layer\n",
        "#             model.classifier[1] = nn.Linear(model.last_channel, 1)\n",
        "\n",
        "#             # if dataset in ['fows_occ', 'gotcha_occ', 'fows_no_occ', 'gotcha_no_occ']:\n",
        "#             # pretrained_model_path = get_pretrained_path(model_name, trn_strategy, dataset, model_weights_path)\n",
        "#             # pretrained_model_path = get_model_path(model_weights_path)\n",
        "#             pretrained_model_path = vm_get_model_pat(model_weights_path, model_str)\n",
        "#             print(\"model saved in:\", pretrained_model_path)\n",
        "#             #get_pretrained_path(model_name, dataset, tl, ft)\n",
        "#             # with torch.serialization.safe_globals([FocalLoss]): # Use context manager\n",
        "#             #   best_ckpt = torch.load(pretrained_model_path, map_location = \"cpu\", weights_only= False)\n",
        "#             #   model.load_state_dict(best_ckpt['model'])\n",
        "#             model.load_state_dict(torch.load(pretrained_model_path))\n",
        "#         else:\n",
        "#             print(\"no pretrained model found\")\n",
        "#             exit()\n",
        "\n",
        "#         model.to(device)\n",
        "#         print(\"Model loaded!\")\n",
        "#         # print(model)\n",
        "#         print(\"model_name: \", model_name)\n",
        "#         print(\"tst_dataset: \", dataset)\n",
        "#         print(\"trn_strategy: \", trn_strategy)\n",
        "#         print(\"model_path: \", pretrained_model_path)\n",
        "\n",
        "#     # elif 'effnetb4' in model_name.lower():\n",
        "#     elif model_name == 'effnetb4':\n",
        "#         print(\"Loading EfficientNetB4 model\")\n",
        "#         model = models.efficientnet_b4(weights='EfficientNet_B4_Weights.IMAGENET1K_V1')\n",
        "#         model_name = 'EfficientNet_B4' # add the model name to the model object\n",
        "\n",
        "#         # load the pre-trained model for testing (load model weights)\n",
        "#         if trn_strategy == 'tl':\n",
        "#             # ---------------------------- #\n",
        "#             # --- TRANSFER LEARNING!!! --- #\n",
        "#             # ---------------------------- #\n",
        "#             print(\"loading pretrained TL model\")\n",
        "#             # Freeze all layers\n",
        "#             for param in model.parameters():\n",
        "#                 param.requires_grad = False\n",
        "\n",
        "#             # Replace the classifier layer\n",
        "#             # model._fc = nn.Linear(model._fc.in_features, 1) # only 1 output -> prob of real of swap face\n",
        "#             model.classifier[-1] = nn.Linear(model.classifier[-1].in_features, 1) # modify the last layer of the classifier to have 1 output -> prob of real of swap face\n",
        "\n",
        "#             if dataset == 'gotcha_no_occ':\n",
        "#                 # pretrained_model_path = get_pretrained_path(model_name, trn_strategy, dataset, model_weights_path)\n",
        "#                 # pretrained_model_path = get_model_path(model_weights_path)\n",
        "#                 pretrained_model_path = vm_get_model_pat(model_weights_path, model_str)\n",
        "#                 #get_pretrained_path(model_name, dataset, tl, ft)\n",
        "#                 # model.load_state_dict(torch.load(pretrained_model_path))\n",
        "#                 # with torch.serialization.safe_globals([FocalLoss]): # Use context manager\n",
        "#                 best_ckpt = torch.load(pretrained_model_path, map_location = \"cpu\")\n",
        "#                 model.load_state_dict(best_ckpt['model'])\n",
        "#             elif dataset in ['thesis_occ', 'thesis_no_occ', 'gotcha_occ']:\n",
        "#                 # pretrained_model_path = get_pretrained_path(model_name, trn_strategy, dataset, model_weights_path)\n",
        "#                 # pretrained_model_path = get_model_path(model_weights_path)\n",
        "#                 pretrained_model_path = vm_get_model_pat(model_weights_path, model_str)\n",
        "#                 #get_pretrained_path(model_name, dataset, tl, ft)\n",
        "#                 # print(\"model saved in:\", pretrained_model_path)\n",
        "#                 # with torch.serialization.safe_globals([FocalLoss]): # Use context manager\n",
        "#                 model.load_state_dict(torch.load(pretrained_model_path))\n",
        "#             else:\n",
        "#                 print(\"no pretrained model found\")\n",
        "#                 exit()\n",
        "\n",
        "#         elif trn_strategy == 'ft':\n",
        "#         # else:\n",
        "#             # ---------------------- #\n",
        "#             # --- FINE TUNING!!! --- #\n",
        "#             # ---------------------- #\n",
        "#             print(\"loading pretrained FT model\")\n",
        "#             # Replace the classifier layer\n",
        "#             model.classifier[-1] = nn.Linear(model.classifier[-1].in_features, 1)\n",
        "#             # if args.dataset == 'thesis_occ':\n",
        "#             # if dataset in ['fows_occ', 'gotcha_occ', 'fows_no_occ', 'gotcha_no_occ']:\n",
        "#             # pretrained_model_path = get_pretrained_path(model_name, trn_strategy, dataset, model_weights_path)\n",
        "#             # pretrained_model_path = get_model_path(model_weights_path)\n",
        "#             pretrained_model_path = vm_get_model_pat(model_weights_path, model_str)\n",
        "#             # with torch.serialization.safe_globals([FocalLoss]): # Use context manager\n",
        "#             best_ckpt = torch.load(pretrained_model_path, map_location = \"cpu\") #, weights_only=False)\n",
        "#             model.load_state_dict(best_ckpt['model'])\n",
        "#         else:\n",
        "#             print(\"no pretrained model found\")\n",
        "#             exit()\n",
        "\n",
        "\n",
        "#         model.to(device)\n",
        "#         print(\"Model loaded!\")\n",
        "#         print(\"model_name: \", model_name)\n",
        "#         print(\"tst_dataset: \", dataset)\n",
        "#         print(\"trn_strategy: \", trn_strategy)\n",
        "#         print(\"model_path: \", pretrained_model_path)\n",
        "\n",
        "#     elif model_name == 'xception':\n",
        "#         print(\"Loading pretrained XceptionNet model...\")\n",
        "#         # load the xceptionet model\n",
        "#         # pip install timm\n",
        "#         # import timm\n",
        "#         model = timm.create_model('xception', pretrained=True, num_classes=1) # only 1 output -> prob of real of swap face\n",
        "#         model_name = 'XceptionNet' # add the model name to the model object\n",
        "#         # load the pre-trained model for testing (load model weights)\n",
        "#         # pretrained_model_path = args.save_model_path\n",
        "#         if trn_strategy == 'tl':\n",
        "#             # ---------------------------- #\n",
        "#             # --- TRANSFER LEARNING!!! --- #\n",
        "#             # ---------------------------- #\n",
        "#             print(\"loading pretrained model\")\n",
        "\n",
        "#             if dataset in ['gotcha_occ', 'gotcha_no_occ']:\n",
        "#                 # pretrained_model_path = get_pretrained_path(model_name, trn_strategy, dataset, model_weights_path)\n",
        "#                 # pretrained_model_path = get_model_path(model_weights_path)\n",
        "#                 pretrained_model_path = vm_get_model_pat(model_weights_path, model_str)\n",
        "#                 # get_pretrained_path(model_name, dataset, tl, ft)\n",
        "#                 # model.load_state_dict(torch.load(pretrained_model_path))\n",
        "#                 # with torch.serialization.safe_globals([FocalLoss]): # Use context manager\n",
        "#                 best_ckpt = torch.load(pretrained_model_path, map_location = \"cpu\", weights_only=False)\n",
        "#                 model.load_state_dict(best_ckpt['model'])\n",
        "#             elif dataset in ['thesis_occ', 'thesis_no_occ']:\n",
        "#                 # pretrained_model_path = get_pretrained_path(model_name, trn_strategy, dataset, model_weights_path)\n",
        "#                 # pretrained_model_path = get_model_path(model_weights_path)\n",
        "#                 pretrained_model_path = vm_get_model_pat(model_weights_path, model_str)\n",
        "#                 #get_pretrained_path(model_name, dataset, tl, ft)\n",
        "#                 # print(\"model saved in:\", pretrained_model_path)\n",
        "#             # with torch.serialization.safe_globals([FocalLoss]): # Use context manager\n",
        "#                 model.load_state_dict(torch.load(pretrained_model_path))\n",
        "\n",
        "#             else:\n",
        "#                 print(\"no pretrained model found\")\n",
        "#                 exit()\n",
        "\n",
        "#         elif trn_strategy == 'ft':\n",
        "#             # ---------------------- #\n",
        "#             # --- FINE TUNING!!! --- #\n",
        "#             # ---------------------- #\n",
        "#             if model_name in ['thesis_occ, thesis_no_occ', 'gotcha_occ', 'gotcha_no_occ']:\n",
        "#                 print(\"loading pretrained FT model\")\n",
        "#                 # pretrained_model_path = get_pretrained_path(model_name, trn_strategy, dataset, model_weights_path)\n",
        "#                 # pretrained_model_path = get_model_path(model_weights_path)\n",
        "#                 pretrained_model_path = vm_get_model_pat(model_weights_path, model_str)\n",
        "#                 # ------------------------------------------ #\n",
        "#                 print(\"model saved in:\", pretrained_model_path)\n",
        "#                 # with torch.serialization.safe_globals([FocalLoss]): # Use context manager\n",
        "#                 best_ckpt = torch.load(pretrained_model_path, map_location = \"cpu\")\n",
        "#                 model.load_state_dict(best_ckpt['model'])\n",
        "#         else:\n",
        "#             print(\"no pretrained model found\")\n",
        "#             exit()\n",
        "\n",
        "        \n",
        "#         print(\"model loaded!\")\n",
        "#         print(\"model_name: \", model_name)\n",
        "#         print(\"tst_dataset: \", dataset)\n",
        "#         print(\"trn_strategy: \", trn_strategy)\n",
        "#         print(\"model_path: \", pretrained_model_path)\n",
        "\n",
        "#     else:\n",
        "#         print(\"Model not supported\")\n",
        "#         exit()\n",
        "\n",
        "#     return model, pretrained_model_path"
      ]
    },
    {
      "cell_type": "code",
      "execution_count": 9,
      "metadata": {},
      "outputs": [
        {
          "name": "stdout",
          "output_type": "stream",
          "text": [
            "xception_thesis_occ_FT\n"
          ]
        }
      ],
      "source": [
        "#@title Select the model:\n",
        "baseline_model = 'xception' #@param [\"mnetv2\", \"effnetb4\", \"xception\"]\n",
        "trn_strategy = 'FT' #@param [\"FT\", \"TL\"]\n",
        "\n",
        "dataset = 'thesis' #@param [\"thesis\", \"gotcha\"]\n",
        "frames_type = 'occ' #@param [\"occ\", \"no_occ\"]\n",
        "dataset = dataset + '_' + frames_type\n",
        "\n",
        "model_str = f'{baseline_model}_{dataset}_{trn_strategy}'\n",
        "\n",
        "print(model_str)"
      ]
    },
    {
      "cell_type": "code",
      "execution_count": 10,
      "metadata": {},
      "outputs": [
        {
          "name": "stdout",
          "output_type": "stream",
          "text": [
            "/media/data/model_exp_results/face_occ_net/results_FT/\n"
          ]
        }
      ],
      "source": [
        "# load baseline model and give images as input to the model\n",
        "model_weights_path = '/media/data/model_exp_results/face_occ_net/results_FT/' if trn_strategy == 'FT' else '/media/data/model_exp_results/face_occ_net/TL/results_TL/'\n",
        "print(model_weights_path)\n",
        "# baseline = '' ## add multiple choice"
      ]
    },
    {
      "cell_type": "code",
      "execution_count": 16,
      "metadata": {},
      "outputs": [],
      "source": [
        "# pretrained_model_path = vm_get_model_pat(model_weights_path, model_str)\n",
        "# print(\"model saved in:\", pretrained_model_path)"
      ]
    },
    {
      "cell_type": "code",
      "execution_count": 17,
      "metadata": {},
      "outputs": [
        {
          "name": "stdout",
          "output_type": "stream",
          "text": [
            "device: cuda:0\n",
            "Loading pretrained XceptionNet model...\n",
            "model loaded!\n",
            "model_name:  XceptionNet\n",
            "tst_dataset:  thesis_occ\n",
            "trn_strategy:  ft\n",
            "model_path:  \n"
          ]
        },
        {
          "data": {
            "text/plain": [
              "Xception(\n",
              "  (conv1): Conv2d(3, 32, kernel_size=(3, 3), stride=(2, 2), bias=False)\n",
              "  (bn1): BatchNorm2d(32, eps=1e-05, momentum=0.1, affine=True, track_running_stats=True)\n",
              "  (act1): ReLU(inplace=True)\n",
              "  (conv2): Conv2d(32, 64, kernel_size=(3, 3), stride=(1, 1), bias=False)\n",
              "  (bn2): BatchNorm2d(64, eps=1e-05, momentum=0.1, affine=True, track_running_stats=True)\n",
              "  (act2): ReLU(inplace=True)\n",
              "  (block1): Block(\n",
              "    (skip): Conv2d(64, 128, kernel_size=(1, 1), stride=(2, 2), bias=False)\n",
              "    (skipbn): BatchNorm2d(128, eps=1e-05, momentum=0.1, affine=True, track_running_stats=True)\n",
              "    (rep): Sequential(\n",
              "      (0): SeparableConv2d(\n",
              "        (conv1): Conv2d(64, 64, kernel_size=(3, 3), stride=(1, 1), padding=(1, 1), groups=64, bias=False)\n",
              "        (pointwise): Conv2d(64, 128, kernel_size=(1, 1), stride=(1, 1), bias=False)\n",
              "      )\n",
              "      (1): BatchNorm2d(128, eps=1e-05, momentum=0.1, affine=True, track_running_stats=True)\n",
              "      (2): ReLU(inplace=True)\n",
              "      (3): SeparableConv2d(\n",
              "        (conv1): Conv2d(128, 128, kernel_size=(3, 3), stride=(1, 1), padding=(1, 1), groups=128, bias=False)\n",
              "        (pointwise): Conv2d(128, 128, kernel_size=(1, 1), stride=(1, 1), bias=False)\n",
              "      )\n",
              "      (4): BatchNorm2d(128, eps=1e-05, momentum=0.1, affine=True, track_running_stats=True)\n",
              "      (5): MaxPool2d(kernel_size=3, stride=2, padding=1, dilation=1, ceil_mode=False)\n",
              "    )\n",
              "  )\n",
              "  (block2): Block(\n",
              "    (skip): Conv2d(128, 256, kernel_size=(1, 1), stride=(2, 2), bias=False)\n",
              "    (skipbn): BatchNorm2d(256, eps=1e-05, momentum=0.1, affine=True, track_running_stats=True)\n",
              "    (rep): Sequential(\n",
              "      (0): ReLU()\n",
              "      (1): SeparableConv2d(\n",
              "        (conv1): Conv2d(128, 128, kernel_size=(3, 3), stride=(1, 1), padding=(1, 1), groups=128, bias=False)\n",
              "        (pointwise): Conv2d(128, 256, kernel_size=(1, 1), stride=(1, 1), bias=False)\n",
              "      )\n",
              "      (2): BatchNorm2d(256, eps=1e-05, momentum=0.1, affine=True, track_running_stats=True)\n",
              "      (3): ReLU(inplace=True)\n",
              "      (4): SeparableConv2d(\n",
              "        (conv1): Conv2d(256, 256, kernel_size=(3, 3), stride=(1, 1), padding=(1, 1), groups=256, bias=False)\n",
              "        (pointwise): Conv2d(256, 256, kernel_size=(1, 1), stride=(1, 1), bias=False)\n",
              "      )\n",
              "      (5): BatchNorm2d(256, eps=1e-05, momentum=0.1, affine=True, track_running_stats=True)\n",
              "      (6): MaxPool2d(kernel_size=3, stride=2, padding=1, dilation=1, ceil_mode=False)\n",
              "    )\n",
              "  )\n",
              "  (block3): Block(\n",
              "    (skip): Conv2d(256, 728, kernel_size=(1, 1), stride=(2, 2), bias=False)\n",
              "    (skipbn): BatchNorm2d(728, eps=1e-05, momentum=0.1, affine=True, track_running_stats=True)\n",
              "    (rep): Sequential(\n",
              "      (0): ReLU()\n",
              "      (1): SeparableConv2d(\n",
              "        (conv1): Conv2d(256, 256, kernel_size=(3, 3), stride=(1, 1), padding=(1, 1), groups=256, bias=False)\n",
              "        (pointwise): Conv2d(256, 728, kernel_size=(1, 1), stride=(1, 1), bias=False)\n",
              "      )\n",
              "      (2): BatchNorm2d(728, eps=1e-05, momentum=0.1, affine=True, track_running_stats=True)\n",
              "      (3): ReLU(inplace=True)\n",
              "      (4): SeparableConv2d(\n",
              "        (conv1): Conv2d(728, 728, kernel_size=(3, 3), stride=(1, 1), padding=(1, 1), groups=728, bias=False)\n",
              "        (pointwise): Conv2d(728, 728, kernel_size=(1, 1), stride=(1, 1), bias=False)\n",
              "      )\n",
              "      (5): BatchNorm2d(728, eps=1e-05, momentum=0.1, affine=True, track_running_stats=True)\n",
              "      (6): MaxPool2d(kernel_size=3, stride=2, padding=1, dilation=1, ceil_mode=False)\n",
              "    )\n",
              "  )\n",
              "  (block4): Block(\n",
              "    (rep): Sequential(\n",
              "      (0): ReLU()\n",
              "      (1): SeparableConv2d(\n",
              "        (conv1): Conv2d(728, 728, kernel_size=(3, 3), stride=(1, 1), padding=(1, 1), groups=728, bias=False)\n",
              "        (pointwise): Conv2d(728, 728, kernel_size=(1, 1), stride=(1, 1), bias=False)\n",
              "      )\n",
              "      (2): BatchNorm2d(728, eps=1e-05, momentum=0.1, affine=True, track_running_stats=True)\n",
              "      (3): ReLU(inplace=True)\n",
              "      (4): SeparableConv2d(\n",
              "        (conv1): Conv2d(728, 728, kernel_size=(3, 3), stride=(1, 1), padding=(1, 1), groups=728, bias=False)\n",
              "        (pointwise): Conv2d(728, 728, kernel_size=(1, 1), stride=(1, 1), bias=False)\n",
              "      )\n",
              "      (5): BatchNorm2d(728, eps=1e-05, momentum=0.1, affine=True, track_running_stats=True)\n",
              "      (6): ReLU(inplace=True)\n",
              "      (7): SeparableConv2d(\n",
              "        (conv1): Conv2d(728, 728, kernel_size=(3, 3), stride=(1, 1), padding=(1, 1), groups=728, bias=False)\n",
              "        (pointwise): Conv2d(728, 728, kernel_size=(1, 1), stride=(1, 1), bias=False)\n",
              "      )\n",
              "      (8): BatchNorm2d(728, eps=1e-05, momentum=0.1, affine=True, track_running_stats=True)\n",
              "    )\n",
              "  )\n",
              "  (block5): Block(\n",
              "    (rep): Sequential(\n",
              "      (0): ReLU()\n",
              "      (1): SeparableConv2d(\n",
              "        (conv1): Conv2d(728, 728, kernel_size=(3, 3), stride=(1, 1), padding=(1, 1), groups=728, bias=False)\n",
              "        (pointwise): Conv2d(728, 728, kernel_size=(1, 1), stride=(1, 1), bias=False)\n",
              "      )\n",
              "      (2): BatchNorm2d(728, eps=1e-05, momentum=0.1, affine=True, track_running_stats=True)\n",
              "      (3): ReLU(inplace=True)\n",
              "      (4): SeparableConv2d(\n",
              "        (conv1): Conv2d(728, 728, kernel_size=(3, 3), stride=(1, 1), padding=(1, 1), groups=728, bias=False)\n",
              "        (pointwise): Conv2d(728, 728, kernel_size=(1, 1), stride=(1, 1), bias=False)\n",
              "      )\n",
              "      (5): BatchNorm2d(728, eps=1e-05, momentum=0.1, affine=True, track_running_stats=True)\n",
              "      (6): ReLU(inplace=True)\n",
              "      (7): SeparableConv2d(\n",
              "        (conv1): Conv2d(728, 728, kernel_size=(3, 3), stride=(1, 1), padding=(1, 1), groups=728, bias=False)\n",
              "        (pointwise): Conv2d(728, 728, kernel_size=(1, 1), stride=(1, 1), bias=False)\n",
              "      )\n",
              "      (8): BatchNorm2d(728, eps=1e-05, momentum=0.1, affine=True, track_running_stats=True)\n",
              "    )\n",
              "  )\n",
              "  (block6): Block(\n",
              "    (rep): Sequential(\n",
              "      (0): ReLU()\n",
              "      (1): SeparableConv2d(\n",
              "        (conv1): Conv2d(728, 728, kernel_size=(3, 3), stride=(1, 1), padding=(1, 1), groups=728, bias=False)\n",
              "        (pointwise): Conv2d(728, 728, kernel_size=(1, 1), stride=(1, 1), bias=False)\n",
              "      )\n",
              "      (2): BatchNorm2d(728, eps=1e-05, momentum=0.1, affine=True, track_running_stats=True)\n",
              "      (3): ReLU(inplace=True)\n",
              "      (4): SeparableConv2d(\n",
              "        (conv1): Conv2d(728, 728, kernel_size=(3, 3), stride=(1, 1), padding=(1, 1), groups=728, bias=False)\n",
              "        (pointwise): Conv2d(728, 728, kernel_size=(1, 1), stride=(1, 1), bias=False)\n",
              "      )\n",
              "      (5): BatchNorm2d(728, eps=1e-05, momentum=0.1, affine=True, track_running_stats=True)\n",
              "      (6): ReLU(inplace=True)\n",
              "      (7): SeparableConv2d(\n",
              "        (conv1): Conv2d(728, 728, kernel_size=(3, 3), stride=(1, 1), padding=(1, 1), groups=728, bias=False)\n",
              "        (pointwise): Conv2d(728, 728, kernel_size=(1, 1), stride=(1, 1), bias=False)\n",
              "      )\n",
              "      (8): BatchNorm2d(728, eps=1e-05, momentum=0.1, affine=True, track_running_stats=True)\n",
              "    )\n",
              "  )\n",
              "  (block7): Block(\n",
              "    (rep): Sequential(\n",
              "      (0): ReLU()\n",
              "      (1): SeparableConv2d(\n",
              "        (conv1): Conv2d(728, 728, kernel_size=(3, 3), stride=(1, 1), padding=(1, 1), groups=728, bias=False)\n",
              "        (pointwise): Conv2d(728, 728, kernel_size=(1, 1), stride=(1, 1), bias=False)\n",
              "      )\n",
              "      (2): BatchNorm2d(728, eps=1e-05, momentum=0.1, affine=True, track_running_stats=True)\n",
              "      (3): ReLU(inplace=True)\n",
              "      (4): SeparableConv2d(\n",
              "        (conv1): Conv2d(728, 728, kernel_size=(3, 3), stride=(1, 1), padding=(1, 1), groups=728, bias=False)\n",
              "        (pointwise): Conv2d(728, 728, kernel_size=(1, 1), stride=(1, 1), bias=False)\n",
              "      )\n",
              "      (5): BatchNorm2d(728, eps=1e-05, momentum=0.1, affine=True, track_running_stats=True)\n",
              "      (6): ReLU(inplace=True)\n",
              "      (7): SeparableConv2d(\n",
              "        (conv1): Conv2d(728, 728, kernel_size=(3, 3), stride=(1, 1), padding=(1, 1), groups=728, bias=False)\n",
              "        (pointwise): Conv2d(728, 728, kernel_size=(1, 1), stride=(1, 1), bias=False)\n",
              "      )\n",
              "      (8): BatchNorm2d(728, eps=1e-05, momentum=0.1, affine=True, track_running_stats=True)\n",
              "    )\n",
              "  )\n",
              "  (block8): Block(\n",
              "    (rep): Sequential(\n",
              "      (0): ReLU()\n",
              "      (1): SeparableConv2d(\n",
              "        (conv1): Conv2d(728, 728, kernel_size=(3, 3), stride=(1, 1), padding=(1, 1), groups=728, bias=False)\n",
              "        (pointwise): Conv2d(728, 728, kernel_size=(1, 1), stride=(1, 1), bias=False)\n",
              "      )\n",
              "      (2): BatchNorm2d(728, eps=1e-05, momentum=0.1, affine=True, track_running_stats=True)\n",
              "      (3): ReLU(inplace=True)\n",
              "      (4): SeparableConv2d(\n",
              "        (conv1): Conv2d(728, 728, kernel_size=(3, 3), stride=(1, 1), padding=(1, 1), groups=728, bias=False)\n",
              "        (pointwise): Conv2d(728, 728, kernel_size=(1, 1), stride=(1, 1), bias=False)\n",
              "      )\n",
              "      (5): BatchNorm2d(728, eps=1e-05, momentum=0.1, affine=True, track_running_stats=True)\n",
              "      (6): ReLU(inplace=True)\n",
              "      (7): SeparableConv2d(\n",
              "        (conv1): Conv2d(728, 728, kernel_size=(3, 3), stride=(1, 1), padding=(1, 1), groups=728, bias=False)\n",
              "        (pointwise): Conv2d(728, 728, kernel_size=(1, 1), stride=(1, 1), bias=False)\n",
              "      )\n",
              "      (8): BatchNorm2d(728, eps=1e-05, momentum=0.1, affine=True, track_running_stats=True)\n",
              "    )\n",
              "  )\n",
              "  (block9): Block(\n",
              "    (rep): Sequential(\n",
              "      (0): ReLU()\n",
              "      (1): SeparableConv2d(\n",
              "        (conv1): Conv2d(728, 728, kernel_size=(3, 3), stride=(1, 1), padding=(1, 1), groups=728, bias=False)\n",
              "        (pointwise): Conv2d(728, 728, kernel_size=(1, 1), stride=(1, 1), bias=False)\n",
              "      )\n",
              "      (2): BatchNorm2d(728, eps=1e-05, momentum=0.1, affine=True, track_running_stats=True)\n",
              "      (3): ReLU(inplace=True)\n",
              "      (4): SeparableConv2d(\n",
              "        (conv1): Conv2d(728, 728, kernel_size=(3, 3), stride=(1, 1), padding=(1, 1), groups=728, bias=False)\n",
              "        (pointwise): Conv2d(728, 728, kernel_size=(1, 1), stride=(1, 1), bias=False)\n",
              "      )\n",
              "      (5): BatchNorm2d(728, eps=1e-05, momentum=0.1, affine=True, track_running_stats=True)\n",
              "      (6): ReLU(inplace=True)\n",
              "      (7): SeparableConv2d(\n",
              "        (conv1): Conv2d(728, 728, kernel_size=(3, 3), stride=(1, 1), padding=(1, 1), groups=728, bias=False)\n",
              "        (pointwise): Conv2d(728, 728, kernel_size=(1, 1), stride=(1, 1), bias=False)\n",
              "      )\n",
              "      (8): BatchNorm2d(728, eps=1e-05, momentum=0.1, affine=True, track_running_stats=True)\n",
              "    )\n",
              "  )\n",
              "  (block10): Block(\n",
              "    (rep): Sequential(\n",
              "      (0): ReLU()\n",
              "      (1): SeparableConv2d(\n",
              "        (conv1): Conv2d(728, 728, kernel_size=(3, 3), stride=(1, 1), padding=(1, 1), groups=728, bias=False)\n",
              "        (pointwise): Conv2d(728, 728, kernel_size=(1, 1), stride=(1, 1), bias=False)\n",
              "      )\n",
              "      (2): BatchNorm2d(728, eps=1e-05, momentum=0.1, affine=True, track_running_stats=True)\n",
              "      (3): ReLU(inplace=True)\n",
              "      (4): SeparableConv2d(\n",
              "        (conv1): Conv2d(728, 728, kernel_size=(3, 3), stride=(1, 1), padding=(1, 1), groups=728, bias=False)\n",
              "        (pointwise): Conv2d(728, 728, kernel_size=(1, 1), stride=(1, 1), bias=False)\n",
              "      )\n",
              "      (5): BatchNorm2d(728, eps=1e-05, momentum=0.1, affine=True, track_running_stats=True)\n",
              "      (6): ReLU(inplace=True)\n",
              "      (7): SeparableConv2d(\n",
              "        (conv1): Conv2d(728, 728, kernel_size=(3, 3), stride=(1, 1), padding=(1, 1), groups=728, bias=False)\n",
              "        (pointwise): Conv2d(728, 728, kernel_size=(1, 1), stride=(1, 1), bias=False)\n",
              "      )\n",
              "      (8): BatchNorm2d(728, eps=1e-05, momentum=0.1, affine=True, track_running_stats=True)\n",
              "    )\n",
              "  )\n",
              "  (block11): Block(\n",
              "    (rep): Sequential(\n",
              "      (0): ReLU()\n",
              "      (1): SeparableConv2d(\n",
              "        (conv1): Conv2d(728, 728, kernel_size=(3, 3), stride=(1, 1), padding=(1, 1), groups=728, bias=False)\n",
              "        (pointwise): Conv2d(728, 728, kernel_size=(1, 1), stride=(1, 1), bias=False)\n",
              "      )\n",
              "      (2): BatchNorm2d(728, eps=1e-05, momentum=0.1, affine=True, track_running_stats=True)\n",
              "      (3): ReLU(inplace=True)\n",
              "      (4): SeparableConv2d(\n",
              "        (conv1): Conv2d(728, 728, kernel_size=(3, 3), stride=(1, 1), padding=(1, 1), groups=728, bias=False)\n",
              "        (pointwise): Conv2d(728, 728, kernel_size=(1, 1), stride=(1, 1), bias=False)\n",
              "      )\n",
              "      (5): BatchNorm2d(728, eps=1e-05, momentum=0.1, affine=True, track_running_stats=True)\n",
              "      (6): ReLU(inplace=True)\n",
              "      (7): SeparableConv2d(\n",
              "        (conv1): Conv2d(728, 728, kernel_size=(3, 3), stride=(1, 1), padding=(1, 1), groups=728, bias=False)\n",
              "        (pointwise): Conv2d(728, 728, kernel_size=(1, 1), stride=(1, 1), bias=False)\n",
              "      )\n",
              "      (8): BatchNorm2d(728, eps=1e-05, momentum=0.1, affine=True, track_running_stats=True)\n",
              "    )\n",
              "  )\n",
              "  (block12): Block(\n",
              "    (skip): Conv2d(728, 1024, kernel_size=(1, 1), stride=(2, 2), bias=False)\n",
              "    (skipbn): BatchNorm2d(1024, eps=1e-05, momentum=0.1, affine=True, track_running_stats=True)\n",
              "    (rep): Sequential(\n",
              "      (0): ReLU()\n",
              "      (1): SeparableConv2d(\n",
              "        (conv1): Conv2d(728, 728, kernel_size=(3, 3), stride=(1, 1), padding=(1, 1), groups=728, bias=False)\n",
              "        (pointwise): Conv2d(728, 728, kernel_size=(1, 1), stride=(1, 1), bias=False)\n",
              "      )\n",
              "      (2): BatchNorm2d(728, eps=1e-05, momentum=0.1, affine=True, track_running_stats=True)\n",
              "      (3): ReLU(inplace=True)\n",
              "      (4): SeparableConv2d(\n",
              "        (conv1): Conv2d(728, 728, kernel_size=(3, 3), stride=(1, 1), padding=(1, 1), groups=728, bias=False)\n",
              "        (pointwise): Conv2d(728, 1024, kernel_size=(1, 1), stride=(1, 1), bias=False)\n",
              "      )\n",
              "      (5): BatchNorm2d(1024, eps=1e-05, momentum=0.1, affine=True, track_running_stats=True)\n",
              "      (6): MaxPool2d(kernel_size=3, stride=2, padding=1, dilation=1, ceil_mode=False)\n",
              "    )\n",
              "  )\n",
              "  (conv3): SeparableConv2d(\n",
              "    (conv1): Conv2d(1024, 1024, kernel_size=(3, 3), stride=(1, 1), padding=(1, 1), groups=1024, bias=False)\n",
              "    (pointwise): Conv2d(1024, 1536, kernel_size=(1, 1), stride=(1, 1), bias=False)\n",
              "  )\n",
              "  (bn3): BatchNorm2d(1536, eps=1e-05, momentum=0.1, affine=True, track_running_stats=True)\n",
              "  (act3): ReLU(inplace=True)\n",
              "  (conv4): SeparableConv2d(\n",
              "    (conv1): Conv2d(1536, 1536, kernel_size=(3, 3), stride=(1, 1), padding=(1, 1), groups=1536, bias=False)\n",
              "    (pointwise): Conv2d(1536, 2048, kernel_size=(1, 1), stride=(1, 1), bias=False)\n",
              "  )\n",
              "  (bn4): BatchNorm2d(2048, eps=1e-05, momentum=0.1, affine=True, track_running_stats=True)\n",
              "  (act4): ReLU(inplace=True)\n",
              "  (global_pool): SelectAdaptivePool2d(pool_type=avg, flatten=Flatten(start_dim=1, end_dim=-1))\n",
              "  (fc): Linear(in_features=2048, out_features=1, bias=True)\n",
              ")"
            ]
          },
          "execution_count": 17,
          "metadata": {},
          "output_type": "execute_result"
        }
      ],
      "source": [
        "# ERROR in loading the model: missing focalLoss (import/ GLOBAL definition...) -> missing reference to the\n",
        "device = torch.device(\"cuda:0\" if torch.cuda.is_available() else \"cpu\")\n",
        "print(\"device:\", device)\n",
        "model, pretrained_model_path = load_model_from_path(baseline_model.lower(), trn_strategy.lower(), dataset.lower(), model_weights_path, device)\n",
        "model.to(device)\n",
        "model.eval()"
      ]
    },
    {
      "cell_type": "code",
      "execution_count": null,
      "metadata": {},
      "outputs": [],
      "source": [
        "# # Transformations for testing data\n",
        "# test_transform = transforms.Compose([\n",
        "#     transforms.Resize((256,256)), \n",
        "#     # BICUBIC is used for EfficientNetB4 -> check the documentation\n",
        "#     # BICUBIC vs BILINEAR -> https://discuss.pytorch.org/t/what-is-the-difference-between-bilinear-and-bicubic-interpolation/20920 \n",
        "#     transforms.CenterCrop((224, 224)),\n",
        "#     transforms.ToTensor(),\n",
        "#     transforms.Normalize(mean=[0.485, 0.456, 0.406], std=[0.229, 0.224, 0.225])\n",
        "# ])\n",
        "\n",
        "test_transf = get_test_transf()"
      ]
    },
    {
      "cell_type": "code",
      "execution_count": null,
      "metadata": {
        "id": "wnQsxt4pc8Pp"
      },
      "outputs": [
        {
          "name": "stdout",
          "output_type": "stream",
          "text": [
            "Number of original images: 100\n",
            "Number of fake images: 100\n"
          ]
        }
      ],
      "source": [
        "# load real and fake occ images\n",
        "original_hand_occ_imgs = glob.glob('/media/data/rz_dataset/users_face_occlusion/training/user_196133/original_faces/hand_occlusion_1/*.jpg')\n",
        "fake_hand_occ_imgs = glob.glob('/media/data/rz_dataset/users_face_occlusion/training/user_196133/ghost_faces/hand_occlusion_1/*.jpg')\n",
        "\n",
        "# original_no_occ = glob.glob('/media/data/rz_dataset/user_faces_no_occlusion/training/user_196133/original_faces/hand_occlusion_1/*.jpg')\n",
        "# fake_no_occ = glob.glob('/media/data/rz_dataset/user_faces_no_occlusion/training/user_196133/ghost_faces/hand_occlusion_1/*.jpg')\n",
        "\n",
        "# check if original and fake imgs have the same number of images\n",
        "if len(original_hand_occ_imgs) != len(fake_hand_occ_imgs):\n",
        "    print(f\"Number of original images: {len(original_hand_occ_imgs)}\")\n",
        "    print(f\"Number of fake images: {len(fake_hand_occ_imgs)}\")\n",
        "    raise ValueError(\"The number of original and fake images is not the same!\")\n",
        "print(f\"Number of original images: {len(original_hand_occ_imgs)}\")\n",
        "print(f\"Number of fake images: {len(fake_hand_occ_imgs)}\")"
      ]
    },
    {
      "cell_type": "code",
      "execution_count": null,
      "metadata": {
        "id": "e0HBv0pzdC7i"
      },
      "outputs": [],
      "source": [
        "from PIL import Image\n",
        "\n",
        "# Apply test_transform to all images\n",
        "original_imgs = [test_transf(Image.open(img).convert('RGB')) for img in original_hand_occ_imgs]\n",
        "original_imgs_tensor = torch.stack(original_imgs, dim=0)  # Shape: (100, 3, 224, 224)\n",
        "\n",
        "fake_imgs = [test_transf(Image.open(img).convert('RGB')) for img in fake_hand_occ_imgs]\n",
        "fake_imgs_tensor = torch.stack(fake_imgs, dim=0)  # Shape: (100, 3, 224, 224)"
      ]
    },
    {
      "cell_type": "code",
      "execution_count": 23,
      "metadata": {},
      "outputs": [
        {
          "data": {
            "text/plain": [
              "100"
            ]
          },
          "execution_count": 23,
          "metadata": {},
          "output_type": "execute_result"
        }
      ],
      "source": [
        "len(original_imgs_tensor)"
      ]
    },
    {
      "cell_type": "code",
      "execution_count": 26,
      "metadata": {},
      "outputs": [
        {
          "name": "stdout",
          "output_type": "stream",
          "text": [
            "4\n"
          ]
        }
      ],
      "source": [
        "import numpy as np\n",
        "num_batches = int(np.ceil(len(original_imgs_tensor) / 32))\n",
        "print(num_batches)"
      ]
    },
    {
      "cell_type": "code",
      "execution_count": null,
      "metadata": {},
      "outputs": [],
      "source": [
        "# import numpy as np\n",
        "\n",
        "# def model_forward_pass(imgs_tensor): #, fake_imgs_tensor):\n",
        "#     batch_size = 32\n",
        "#     model.eval()\n",
        "#     all_probs = []\n",
        "#     # fake_all_probs = []\n",
        "#     num_batches = int(np.ceil(len(imgs_tensor) / batch_size))\n",
        "\n",
        "#     with torch.no_grad():\n",
        "#         for batch_idx, i in enumerate(range(0, len(imgs_tensor), batch_size)):\n",
        "#             # print(f\"Batch {batch_idx+1}/{num_batches}\")\n",
        "#             batch_imgs = imgs_tensor[i:i+batch_size].to(device)\n",
        "#             outputs = model(batch_imgs)\n",
        "#             probs = torch.sigmoid(outputs).cpu().numpy().flatten() # Shape: (batch_size,) \n",
        "#             # .cpu().numpy() converts the tensor to a numpy array\n",
        "#             # .flatten() converts the array to a 1D array\n",
        "#             all_probs.extend(probs)\n",
        "\n",
        "#             # # compute the probabilities for the fake images\n",
        "#             # fake_batch_imgs = fake_imgs_tensor[i:i+batch_size].to(device)\n",
        "#             # fake_outputs = model(fake_batch_imgs)\n",
        "#             # fake_probs_batch = torch.sigmoid(fake_outputs).cpu().numpy().flatten()\n",
        "#             # fake_all_probs.extend(fake_probs_batch)\n",
        "    \n",
        "#     return all_probs #, fake_all_probs\n"
      ]
    },
    {
      "cell_type": "code",
      "execution_count": null,
      "metadata": {
        "id": "ebLUWpycc8JH"
      },
      "outputs": [
        {
          "name": "stdout",
          "output_type": "stream",
          "text": [
            "Batch 1/4\n",
            "Batch 2/4\n"
          ]
        },
        {
          "name": "stdout",
          "output_type": "stream",
          "text": [
            "Batch 3/4\n",
            "Batch 4/4\n",
            "Batch 1/4\n",
            "Batch 2/4\n",
            "Batch 3/4\n",
            "Batch 4/4\n",
            "original_all_probs shape:  (100,)\n",
            "fake_all_probs shape:  (100,)\n",
            "Original probabilities (first 10): [0.49265927 0.49362877 0.49782097 0.48345324 0.49407342 0.5054861\n",
            " 0.496136   0.5094571  0.50714195 0.49490997]\n",
            "Fake probabilities (first 10): [0.4953334  0.49716386 0.4971779  0.4943103  0.52154595 0.5140175\n",
            " 0.5079284  0.51870215 0.5177727  0.54099745]\n"
          ]
        }
      ],
      "source": [
        "import numpy as np\n",
        "\n",
        "print(\"original images forward pass through the model...\")\n",
        "original_all_probs = model_forward_pass(original_imgs_tensor, model, device)\n",
        "print(\"fake images forward pass through the model...\")\n",
        "fake_all_probs = model_forward_pass(fake_imgs_tensor, model, device)\n",
        "\n",
        "original_all_probs = np.array(original_all_probs)  # Shape: (100,)\n",
        "fake_all_probs = np.array(fake_all_probs)  # Shape: (100,)\n",
        "\n",
        "print(\"original_all_probs shape: \", original_all_probs.shape)  # should be (100,)\n",
        "print(\"fake_all_probs shape: \", fake_all_probs.shape)  # should be (100,)\n",
        "\n",
        "# print the first 10 probabilities\n",
        "print(\"Original probabilities (first 10):\", original_all_probs[:10])\n",
        "print(\"Fake probabilities (first 10):\", fake_all_probs[:10])\n",
        "# breakpoint()"
      ]
    },
    {
      "cell_type": "code",
      "execution_count": null,
      "metadata": {},
      "outputs": [
        {
          "name": "stdout",
          "output_type": "stream",
          "text": [
            "done\n"
          ]
        },
        {
          "data": {
            "image/png": "[encoded data removed]",
            "text/plain": [
              "<Figure size 640x480 with 1 Axes>"
            ]
          },
          "metadata": {},
          "output_type": "display_data"
        }
      ],
      "source": [
        "# ------------------------------------------------------ #\n",
        "# plot of the original predictions and ghost predictions #\n",
        "# ------------------------------------------------------ #\n",
        "\n",
        "\n",
        "# Sanitize real_imgs_model_outputs by replacing NaN or extreme values\n",
        "# sanitized_outputs = torch.tensor(real_imgs_model_outputs).nan_to_num(nan=0.0, posinf=1.0, neginf=0.0).numpy()\n",
        "# plt.plot(expit(sanitized_outputs), label='Original Predictions', alpha=0.8)\n",
        "plt.plot(original_all_probs, label='Original Predictions', alpha=0.8)\n",
        "plt.plot(fake_all_probs, label='GHOST Predictions', alpha=0.8)\n",
        "plt.axhline(0.5, color='k', linestyle='--', label='Threshold = 0.5')  # Add threshold line\n",
        "# add a text over the threshold line saying \"Fake\"\n",
        "plt.title('Original Predictions VS GHOST Predictions')\n",
        "plt.xlabel('Frames')\n",
        "plt.ylabel('Model score')\n",
        "# plt.xlabel('Frames')\n",
        "# plt.ylabel('Model score')\n",
        "plt.legend()\n",
        "plt.tight_layout()\n",
        "# plt.savefig('hand_occ_ORIGINAL_AND_FAKE_model_outputs_plot.png')  # Save the plot to a file\n",
        "# plt.show()  # Show the plot\n",
        "print(\"done\")"
      ]
    },
    {
      "cell_type": "code",
      "execution_count": 33,
      "metadata": {},
      "outputs": [
        {
          "name": "stdout",
          "output_type": "stream",
          "text": [
            "Averagae score for REAL video: 0.5062\n",
            "Averagae score for FAKE video: 0.5044\n"
          ]
        }
      ],
      "source": [
        "# print the avg value of real and fake probs\n",
        "print(\"Averagae score for REAL video: {:.4f}\".format(original_all_probs.mean()))\n",
        "print(\"Averagae score for FAKE video: {:.4f}\".format(fake_all_probs.mean()))"
      ]
    },
    {
      "cell_type": "code",
      "execution_count": null,
      "metadata": {
        "id": "TtlAIJTjFxdb"
      },
      "outputs": [],
      "source": [
        "# ---------------------------------------------------------------------------------------------------------------------------------- #"
      ]
    },
    {
      "cell_type": "code",
      "execution_count": null,
      "metadata": {
        "cellView": "form",
        "id": "f5n30NH_yrTJ"
      },
      "outputs": [],
      "source": [
        "#@title ICPR2020_repo example\n",
        "\n",
        "model_url = weights.weight_url['{:s}_{:s}'.format(net_model,train_db)]\n",
        "net = getattr(fornet,net_model)().eval().to(device)\n",
        "net.load_state_dict(load_url(model_url,map_location=device,check_hash=True))\n",
        "\n",
        "# Do something similar to what is done in the icpr2020 repo -> https://github.com/polimi-ispl/icpr2020dfdc/blob/master/notebook/Video%20prediction.ipynb\n",
        "\n",
        "# For each frame, we consider the face with the highest confidence score found by BlazeFace (= frame['faces'][0])\n",
        "faces_real_t = torch.stack( [ transf(image=frame['faces'][0])['image'] for frame in vid_real_faces if len(frame['faces'])] )\n",
        "faces_fake_t = torch.stack( [ transf(image=frame['faces'][0])['image'] for frame in vid_fake_faces if len(frame['faces'])] )\n",
        "\n",
        "with torch.no_grad():\n",
        "    faces_real_pred = net(faces_real_t.to(device)).cpu().numpy().flatten()\n",
        "    faces_fake_pred = net(faces_fake_t.to(device)).cpu().numpy().flatten()\n",
        "\n",
        "\n",
        "fig,ax = plt.subplots(1,2,figsize=(12,4))\n",
        "\n",
        "ax[0].stem([f['frame_idx'] for f in vid_real_faces if len(f['faces'])],expit(faces_real_pred),use_line_collection=True)\n",
        "ax[0].set_title('REAL')\n",
        "ax[0].set_xlabel('Frame')\n",
        "ax[0].set_ylabel('Score')\n",
        "ax[0].set_ylim([0,1])\n",
        "ax[0].grid(True)\n",
        "\n",
        "ax[1].stem([f['frame_idx'] for f in vid_fake_faces if len(f['faces'])],expit(faces_fake_pred),use_line_collection=True)\n",
        "ax[1].set_title('FAKE')\n",
        "ax[1].set_xlabel('Frame')\n",
        "ax[1].set_ylabel('Score')\n",
        "ax[1].set_ylim([0,1])\n",
        "ax[1].set_yticks([0,1],['REAL','FAKE']);\n",
        "\n",
        "\n",
        "\n",
        "\"\"\"\n",
        "Print average scores.\n",
        "An average score close to 0 predicts REAL. An average score close to 1 predicts FAKE.\n",
        "\"\"\"\n",
        "print('Average score for REAL video: {:.4f}'.format(expit(faces_real_pred.mean())))\n",
        "print('Average score for FAKE face: {:.4f}'.format(expit(faces_fake_pred.mean())))"
      ]
    },
    {
      "cell_type": "code",
      "execution_count": null,
      "metadata": {
        "cellView": "form",
        "id": "5fbdacdd"
      },
      "outputs": [],
      "source": [
        "#@title Focal Loss Definition\n",
        "import torch\n",
        "import torch.nn as nn\n",
        "import torch.nn.functional as F\n",
        "# ----------------------------------------- #\n",
        "# Focal loss definition\n",
        "# taken from: https://github.com/facebookresearch/fvcore/blob/main/fvcore/nn/focal_loss.py\n",
        "# default values: alpha = 0.25, gamma = 2 ->  https://pytorch.org/vision/main/_modules/torchvision/ops/focal_loss.html\n",
        "# ------------------------------------------------------- #\n",
        "# converted as a class to define it as criterion\n",
        "class FocalLoss(nn.Module):\n",
        "    def __init__(self, alpha: float = -1, gamma: float = 2, reduction: str = \"mean\"): # changed default reduction to mean instead of none\n",
        "        super(FocalLoss, self).__init__()\n",
        "        self.alpha = alpha\n",
        "        self.gamma = gamma\n",
        "        self.reduction = reduction\n",
        "\n",
        "    def forward(self, inputs: torch.Tensor, targets: torch.Tensor) -> torch.Tensor:\n",
        "        inputs = inputs.float()\n",
        "        targets = targets.float()\n",
        "        p = torch.sigmoid(inputs)\n",
        "        ce_loss = F.binary_cross_entropy_with_logits(inputs, targets, reduction=\"none\")\n",
        "        p_t = p * targets + (1 - p) * (1 - targets)\n",
        "        loss = ce_loss * ((1 - p_t) ** self.gamma)\n",
        "\n",
        "        if self.alpha >= 0:\n",
        "            alpha_t = self.alpha * targets + (1 - self.alpha) * (1 - targets)\n",
        "            loss = alpha_t * loss\n",
        "\n",
        "        # if self.reduction == \"none\":\n",
        "            # pass\n",
        "            # loss = loss.mean() # Reduce the loss to a scalar before passing it to backward\n",
        "            # to reduce loss to a scalar in case of batch of images -> loss.mean() or loss.sum()\n",
        "            # -> change deafualt reduction to mean\n",
        "        if self.reduction == \"mean\":\n",
        "            loss = loss.mean()\n",
        "        elif self.reduction == \"sum\":\n",
        "            loss = loss.sum()\n",
        "\n",
        "        return loss"
      ]
    },
    {
      "cell_type": "code",
      "execution_count": null,
      "metadata": {
        "cellView": "form",
        "id": "d8ad81d6"
      },
      "outputs": [],
      "source": [
        "#@title Perform Model Inference\n",
        "import os\n",
        "from torchvision.io import read_image\n",
        "import torch\n",
        "import torchvision.transforms as transforms\n",
        "from torch.utils.data import Dataset, DataLoader\n",
        "from PIL import Image\n",
        "\n",
        "# Create a custom Dataset to load images\n",
        "class FaceDataset(Dataset):\n",
        "    def __init__(self, image_dir, transform=None):\n",
        "        self.image_dir = image_dir\n",
        "        self.image_files = [os.path.join(image_dir, f) for f in os.listdir(image_dir) if f.endswith(('.jpg', '.png'))]\n",
        "        self.transform = transform\n",
        "\n",
        "    def __len__(self):\n",
        "        return len(self.image_files)\n",
        "\n",
        "    def __getitem__(self, idx):\n",
        "        img_path = self.image_files[idx]\n",
        "        image = Image.open(img_path).convert('RGB') # Ensure image is in RGB format\n",
        "        if self.transform:\n",
        "            image = self.transform(image)\n",
        "        return image, os.path.basename(img_path)\n",
        "\n",
        "# Define the paths to the preprocessed real and fake faces\n",
        "real_faces_dir_occ = f'/content/drive/MyDrive/Colab Notebooks/FOWS_demo/preprocessed_faces/{vid_demo}/real/{dataset}/{frames_type}/'\n",
        "fake_faces_dir_occ = f'/content/drive/MyDrive/Colab Notebooks/FOWS_demo/preprocessed_faces/{vid_demo}/fake/{dataset}/{frames_type}/'\n",
        "\n",
        "real_faces_dir_no_occ = f'/content/drive/MyDrive/Colab Notebooks/FOWS_demo/preprocessed_faces/real/{dataset}/no_occ/'\n",
        "fake_faces_dir_no_occ = f'/content/drive/MyDrive/Colab Notebooks/FOWS_demo/preprocessed_faces/fake/{dataset}/no_occ/'\n",
        "\n",
        "\n",
        "data_transforms = transforms.Compose([\n",
        "            transforms.Resize((256,256)),\n",
        "            # BICUBIC is used for EfficientNetB4 -> check the documentation\n",
        "            # BICUBIC vs BILINEAR -> https://discuss.pytorch.org/t/what-is-the-difference-between-bilinear-and-bicubic-interpolation/20920\n",
        "            transforms.CenterCrop((224, 224)),\n",
        "            transforms.ToTensor(),\n",
        "            transforms.Normalize(mean=[0.485, 0.456, 0.406], std=[0.229, 0.224, 0.225])\n",
        "        ])\n",
        "\n",
        "# Create datasets and dataloaders\n",
        "real_dataset_occ = FaceDataset(real_faces_dir_occ, transform=data_transforms)\n",
        "fake_dataset_occ = FaceDataset(fake_faces_dir_occ, transform=data_transforms)\n",
        "\n",
        "real_dataset_no_occ = FaceDataset(real_faces_dir_no_occ, transform=data_transforms)\n",
        "fake_dataset_no_occ = FaceDataset(fake_faces_dir_no_occ, transform=data_transforms)\n",
        "\n",
        "\n",
        "# Use DataLoader for efficient batch processing\n",
        "real_dataloader_occ = DataLoader(real_dataset_occ, batch_size=32, shuffle=False)\n",
        "fake_dataloader_occ = DataLoader(fake_dataset_occ, batch_size=32, shuffle=False)\n",
        "\n",
        "real_dataloader_no_occ = DataLoader(real_dataset_no_occ, batch_size=32, shuffle=False)\n",
        "fake_dataloader_no_occ = DataLoader(fake_dataset_no_occ, batch_size=32, shuffle=False)\n",
        "\n",
        "\n",
        "# Perform inference\n",
        "model.eval() # Set model to evaluation mode\n",
        "real_predictions_occ = []\n",
        "fake_predictions_occ = []\n",
        "real_predictions_no_occ = []\n",
        "fake_predictions_no_occ = []\n",
        "\n",
        "\n",
        "with torch.no_grad(): # Disable gradient calculation\n",
        "    print(\"Performing inference on real (occluded) faces...\")\n",
        "    for images, filenames in real_dataloader_occ:\n",
        "        images = images.to(device)\n",
        "        outputs = model(images)\n",
        "        # Apply sigmoid to convert logits to probabilities (assuming binary classification)\n",
        "        predictions = torch.sigmoid(outputs).squeeze().cpu().numpy()\n",
        "        real_predictions_occ.extend(zip(filenames, predictions))\n",
        "\n",
        "    print(\"Performing inference on fake (occluded) faces...\")\n",
        "    for images, filenames in fake_dataloader_occ:\n",
        "        images = images.to(device)\n",
        "        outputs = model(images)\n",
        "        predictions = torch.sigmoid(outputs).squeeze().cpu().numpy()\n",
        "        fake_predictions_occ.extend(zip(filenames, predictions))\n",
        "\n",
        "    print(\"Performing inference on real (non-occluded) faces...\")\n",
        "    for images, filenames in real_dataloader_no_occ:\n",
        "        images = images.to(device)\n",
        "        outputs = model(images)\n",
        "        predictions = torch.sigmoid(outputs).squeeze().cpu().numpy()\n",
        "        real_predictions_no_occ.extend(zip(filenames, predictions))\n",
        "\n",
        "    print(\"Performing inference on fake (non-occluded) faces...\")\n",
        "    for images, filenames in fake_dataloader_no_occ:\n",
        "        images = images.to(device)\n",
        "        outputs = model(images)\n",
        "        predictions = torch.sigmoid(outputs).squeeze().cpu().numpy()\n",
        "        fake_predictions_no_occ.extend(zip(filenames, predictions))\n",
        "\n",
        "\n",
        "print(\"Inference complete.\")"
      ]
    }
  ],
  "metadata": {
    "accelerator": "GPU",
    "colab": {
      "gpuType": "T4",
      "provenance": []
    },
    "kernelspec": {
      "display_name": "rz_env",
      "language": "python",
      "name": "python3"
    },
    "language_info": {
      "codemirror_mode": {
        "name": "ipython",
        "version": 3
      },
      "file_extension": ".py",
      "mimetype": "text/x-python",
      "name": "python",
      "nbconvert_exporter": "python",
      "pygments_lexer": "ipython3",
      "version": "3.10.13"
    }
  },
  "nbformat": 4,
  "nbformat_minor": 0
}
